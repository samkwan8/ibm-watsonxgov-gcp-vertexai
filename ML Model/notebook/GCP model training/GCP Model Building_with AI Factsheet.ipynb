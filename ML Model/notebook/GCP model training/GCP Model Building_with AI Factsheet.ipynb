{
 "cells": [
  {
   "cell_type": "markdown",
   "id": "6f742062",
   "metadata": {
    "id": "d465a2f4c0084790a32c4c21e0f7903d"
   },
   "source": [
    "# Google Cloud Platform Vertex AI - Model Building and Deployment with watsonx.gov AI Factsheet"
   ]
  },
  {
   "cell_type": "markdown",
   "id": "d3712374",
   "metadata": {
    "id": "2cdd4e287f9e44d88be0c1a2e34765d3"
   },
   "source": [
    "Install the required dependencies that are needed to build the model"
   ]
  },
  {
   "cell_type": "code",
   "execution_count": null,
   "id": "f2572509-095b-422f-b733-c69494c9ea8e",
   "metadata": {
    "id": "99084ad3-09fa-4de4-a4d9-f326a8b8bd67",
    "tags": []
   },
   "outputs": [],
   "source": [
    "%%writefile requirements.txt\n",
    "fastapi\n",
    "uvicorn==0.17.6\n",
    "joblib~=1.0\n",
    "numpy~=1.20\n",
    "scikit-learn\n",
    "pandas\n",
    "google-cloud-storage>=1.26.0,<2.0.0dev\n",
    "google-cloud-aiplatform[prediction]>=1.16.0"
   ]
  },
  {
   "cell_type": "markdown",
   "id": "2811242f",
   "metadata": {
    "id": "16c3a8e7fdc142a383ac01d8b76b68af"
   },
   "source": [
    "Pip install the dependencies in the notebook."
   ]
  },
  {
   "cell_type": "code",
   "execution_count": null,
   "id": "f0621494-05dd-43ef-9948-c85add6ef832",
   "metadata": {
    "id": "1109b5c8-8bb3-4f55-abe1-2c6c68684811",
    "tags": []
   },
   "outputs": [],
   "source": [
    "!pip install -U --user -r requirements.txt"
   ]
  },
  {
   "cell_type": "markdown",
   "id": "9611330b-eaa9-4d07-9a4c-df9d3725b164",
   "metadata": {},
   "source": [
    "## Setup AI Factsheet client"
   ]
  },
  {
   "cell_type": "code",
   "execution_count": null,
   "id": "47efc70e-438a-4311-adbe-975384aacc45",
   "metadata": {
    "tags": []
   },
   "outputs": [],
   "source": [
    "try:\n",
    "    from ibm_aigov_facts_client import AIGovFactsClient\n",
    "except:\n",
    "    !pip install -U ibm-aigov-facts-client\n",
    "    from ibm_aigov_facts_client import AIGovFactsClient\n",
    "        \n",
    "from ibm_aigov_facts_client import AIGovFactsClient,CloudPakforDataConfig"
   ]
  },
  {
   "cell_type": "code",
   "execution_count": null,
   "id": "33819fc9-5725-448a-9579-a8c9c6485cc9",
   "metadata": {
    "tags": []
   },
   "outputs": [],
   "source": [
    "creds=CloudPakforDataConfig(service_url=\"xxxxxx\",\n",
    "                            username=\"xxxxxx\",\n",
    "                            api_key=\"xxxxxx\")"
   ]
  },
  {
   "cell_type": "code",
   "execution_count": null,
   "id": "30a82cd0-293c-430c-8837-083cff30be61",
   "metadata": {
    "tags": []
   },
   "outputs": [],
   "source": [
    "EXPERIMENT_NAME='credit-default-model'"
   ]
  },
  {
   "cell_type": "code",
   "execution_count": null,
   "id": "2eaf7417-2083-4a52-8861-505482f126af",
   "metadata": {
    "tags": []
   },
   "outputs": [],
   "source": [
    "facts_client = AIGovFactsClient(cloud_pak_for_data_configs=creds,experiment_name=EXPERIMENT_NAME,set_as_current_experiment=True, external_model=True, enable_autolog=True)"
   ]
  },
  {
   "cell_type": "markdown",
   "id": "f299193a",
   "metadata": {
    "id": "595ace5117684c8a866d1674d794305d",
    "tags": []
   },
   "source": [
    "## Create the directories where the model artifacts are stored"
   ]
  },
  {
   "cell_type": "code",
   "execution_count": null,
   "id": "ceb08b49-8ba4-4f59-8c3e-c5f078377af0",
   "metadata": {
    "id": "c87a832b-8015-4923-9543-e0239779da21",
    "tags": []
   },
   "outputs": [],
   "source": [
    "USER_SRC_DIR = \"src_dir\""
   ]
  },
  {
   "cell_type": "code",
   "execution_count": null,
   "id": "fcc77354-182c-4e80-8ec0-54b10605b4c6",
   "metadata": {
    "id": "0d7b8e65-9573-4ebc-81db-39e69f3116d6",
    "tags": []
   },
   "outputs": [],
   "source": [
    "!mkdir $USER_SRC_DIR"
   ]
  },
  {
   "cell_type": "code",
   "execution_count": null,
   "id": "32e3d5df-0cda-4d82-a8ae-a0c2cc99400c",
   "metadata": {
    "id": "2aea6cac-34f4-4c5b-bedb-eadae47b67f6",
    "tags": []
   },
   "outputs": [],
   "source": [
    "!mkdir model_artifacts"
   ]
  },
  {
   "cell_type": "code",
   "execution_count": null,
   "id": "2a603b5d-41dc-41ca-b538-a6f1f88b5c6c",
   "metadata": {
    "id": "c69403e3-f9e3-4a53-8f36-981d95e1bbc2",
    "tags": []
   },
   "outputs": [],
   "source": [
    "# copy the requirements to the source dir\n",
    "!cp requirements.txt $USER_SRC_DIR/requirements.txt"
   ]
  },
  {
   "cell_type": "markdown",
   "id": "57e788e3",
   "metadata": {
    "id": "544512f40fcd49b5823958776f85e5b9"
   },
   "source": [
    "This would be a sklearn based model, import the necessary packages"
   ]
  },
  {
   "cell_type": "code",
   "execution_count": null,
   "id": "3c1c6197-ce14-4de9-974e-c0f48fb9573a",
   "metadata": {
    "id": "45980ae4-fe9f-4f1c-ac0b-8379955050bb",
    "tags": []
   },
   "outputs": [],
   "source": [
    "import seaborn as sns\n",
    "import numpy as np\n",
    "import pandas as pd\n",
    "import shutil\n",
    "\n",
    "from sklearn import preprocessing\n",
    "from sklearn.ensemble import RandomForestClassifier\n",
    "from sklearn.pipeline import make_pipeline\n",
    "from sklearn.compose import make_column_transformer\n",
    "from sklearn.model_selection import train_test_split\n",
    "from sklearn import metrics\n",
    "from sklearn.linear_model import LogisticRegression\n",
    "\n",
    "import joblib\n",
    "import logging\n",
    "\n",
    "# set logging to see the docker container logs\n",
    "logging.basicConfig(level=logging.INFO)\n",
    "\n",
    "# delete previous mlruns record if exists\n",
    "shutil.rmtree('./mlruns', ignore_errors=True)"
   ]
  },
  {
   "cell_type": "markdown",
   "id": "9c3fe04d",
   "metadata": {
    "id": "86cdd55a2b954e919ee87488a3929db1"
   },
   "source": [
    "Identifiers to describe the model and the cloud storage bucket details."
   ]
  },
  {
   "cell_type": "code",
   "execution_count": null,
   "id": "0f066dbc-251a-443a-ab5a-86b71c74b179",
   "metadata": {
    "id": "26abb0e4-dde6-4296-a33e-e8024a4476b2",
    "tags": []
   },
   "outputs": [],
   "source": [
    "REGION = \"us-central1\"\n",
    "MODEL_ARTIFACT_DIR = \"credit-default-model\"\n",
    "REPOSITORY = \"credit-default\"\n",
    "IMAGE = \"credit-default-image\"\n",
    "MODEL_DISPLAY_NAME = \"credit-default-model\"\n",
    "\n",
    "# Replace with your project\n",
    "PROJECT_ID = \"prime-rainfall-425716-j6\"\n",
    "\n",
    "# Replace with your bucket\n",
    "BUCKET_NAME = \"gs://driven-density-wos-cpr-bucket\""
   ]
  },
  {
   "cell_type": "markdown",
   "id": "defa78a5",
   "metadata": {
    "id": "ad54f5de1dc1419793c617b2ab4a80ba"
   },
   "source": [
    "Load the data"
   ]
  },
  {
   "cell_type": "code",
   "execution_count": null,
   "id": "0679b41b-9966-4b06-9585-d8caacecfb38",
   "metadata": {
    "id": "bf486a31-a7db-4d9a-bec9-f0807f72d6bf",
    "tags": []
   },
   "outputs": [],
   "source": [
    "# data = sns.load_dataset('diamonds', cache=True, data_home=None)\n",
    "data= pd.read_csv(\"UCI_Credit_Card.csv\")\n",
    "\n",
    "label = 'defaultpaymentnextmonth'\n",
    "\n",
    "y = data['defaultpaymentnextmonth']\n",
    "X = data.drop(columns=['defaultpaymentnextmonth', \"ID\"])"
   ]
  },
  {
   "cell_type": "code",
   "execution_count": null,
   "id": "e988582b-003c-45e4-bf71-a63deb6bef4f",
   "metadata": {
    "tags": []
   },
   "outputs": [],
   "source": [
    "X_train, X_test, y_train, y_test = train_test_split(X, y, test_size=0.20, random_state=42)"
   ]
  },
  {
   "cell_type": "code",
   "execution_count": null,
   "id": "67cbfd01-938a-4edf-a75d-6ce6b980c1ad",
   "metadata": {
    "id": "c0f1f153-dd6e-463f-979c-c009c7d23f27",
    "tags": []
   },
   "outputs": [],
   "source": [
    "X_train.head()"
   ]
  },
  {
   "cell_type": "code",
   "execution_count": null,
   "id": "d55c23da-32a4-4d4d-9eaa-30998d3011bf",
   "metadata": {
    "id": "dd495a45-f9e8-4e49-8b58-cc1a19f2aedc",
    "tags": []
   },
   "outputs": [],
   "source": [
    "y_train.head()"
   ]
  },
  {
   "cell_type": "code",
   "execution_count": null,
   "id": "b12960a0-37a9-4867-819f-6525773d3ed5",
   "metadata": {
    "tags": []
   },
   "outputs": [],
   "source": [
    "len(X_train), len(y_test)"
   ]
  },
  {
   "cell_type": "markdown",
   "id": "d11df927",
   "metadata": {
    "id": "2ca203d0c18f4a7085aa841d384d7af3"
   },
   "source": [
    "Column transformations - One hot encode the categorical features and scale the numerical features"
   ]
  },
  {
   "cell_type": "code",
   "execution_count": null,
   "id": "7b41bcdc-37b8-4ad5-9137-0e61b2fee48e",
   "metadata": {
    "id": "912b9237-08a3-4bd1-baf9-0ed719bac35d",
    "tags": []
   },
   "outputs": [],
   "source": [
    "column_transform = make_column_transformer(\n",
    "    (preprocessing.OneHotEncoder(), [1, 2, 3]),\n",
    "    (preprocessing.StandardScaler(), [0, 4, 5, 6, 7, 8, 9, 10, 11, 12, 13, 14, 15, 16, 17, 18, 19, 20, 21, 22]))"
   ]
  },
  {
   "cell_type": "markdown",
   "id": "877b0c9e",
   "metadata": {
    "id": "e6ce8ce05d284ff1b88da38f353faf83"
   },
   "source": [
    "Create a Logistic Regression"
   ]
  },
  {
   "cell_type": "code",
   "execution_count": null,
   "id": "f4fa9d8c-d8b0-4a7a-ba9a-8607b3acec1e",
   "metadata": {
    "tags": []
   },
   "outputs": [],
   "source": [
    "# instantiate the model (using the default parameters)\n",
    "regr = LogisticRegression(random_state=16)"
   ]
  },
  {
   "cell_type": "markdown",
   "id": "a7fc2f5d",
   "metadata": {
    "id": "fb158119d41e4d999eb35429c0b66d7b"
   },
   "source": [
    "Create the model pipeline and fit it with the training data"
   ]
  },
  {
   "cell_type": "code",
   "execution_count": null,
   "id": "f882c64b-035c-4690-b2b0-bf2646f14b24",
   "metadata": {
    "id": "66d3f0b9-c4da-47c6-9efc-a8e3865e1a15",
    "tags": []
   },
   "outputs": [],
   "source": [
    "my_pipeline = make_pipeline(column_transform, regr)"
   ]
  },
  {
   "cell_type": "code",
   "execution_count": null,
   "id": "b398662d-bc3e-4e41-8b49-02b73b27b83b",
   "metadata": {
    "id": "921e5f72-5ef5-4331-88db-6af48df7dad0",
    "tags": []
   },
   "outputs": [],
   "source": [
    "my_pipeline.fit(X_train, y_train)"
   ]
  },
  {
   "cell_type": "markdown",
   "id": "78182ec9",
   "metadata": {
    "id": "fe7ae8f661ca4bb499ff28ff86c6fde3"
   },
   "source": [
    "Perform local predictions"
   ]
  },
  {
   "cell_type": "code",
   "execution_count": null,
   "id": "940489dd-f751-4ce0-8e07-08172246bf73",
   "metadata": {
    "id": "9a1519e2-9453-402a-9053-681fe5cb26a1",
    "tags": []
   },
   "outputs": [],
   "source": [
    "my_pipeline.predict_proba(X_train.iloc[0:10])"
   ]
  },
  {
   "cell_type": "code",
   "execution_count": null,
   "id": "762f1591-253a-48d7-86ac-171c3f834162",
   "metadata": {
    "tags": []
   },
   "outputs": [],
   "source": [
    "y_pred_train = my_pipeline.predict_proba(X_train)[:,1]\n",
    "#y_pred_validation = model_pipeline.predict_proba(X_validation)[:,1]\n",
    "y_pred_test = my_pipeline.predict_proba(X_test)[:,1]"
   ]
  },
  {
   "cell_type": "code",
   "execution_count": null,
   "id": "2783929f-1ffb-483b-91b4-663c35cea97a",
   "metadata": {
    "tags": []
   },
   "outputs": [],
   "source": [
    "fpr_train, tpr_train, thresholds_train = metrics.roc_curve(y_train, y_pred_train)\n",
    "#fpr_validation, tpr_validation, thresholds_validation = metrics.roc_curve(y_validation, y_pred_validation)\n",
    "fpr_test, tpr_test, thresholds_test = metrics.roc_curve(y_test, y_pred_test)\n",
    "\n",
    "auc_train = metrics.auc(fpr_train, tpr_train)\n",
    "#auc_validation = metrics.auc(fpr_validation, tpr_validation)\n",
    "auc_test = metrics.auc(fpr_test, tpr_test)\n",
    "\n",
    "print('Training AUC : ' + str(np.round(auc_train, 3)) +  ' and Test AUC :' + str(np.round(auc_test, 3)) )"
   ]
  },
  {
   "cell_type": "code",
   "execution_count": null,
   "id": "c63f2529-1483-4582-8d6d-b76a057b08b4",
   "metadata": {
    "tags": []
   },
   "outputs": [],
   "source": [
    "import matplotlib.pyplot as plt\n",
    "\n",
    "fig = plt.figure(figsize=(10,5))\n",
    "plt.plot([0, 1], [0, 1], label='random')\n",
    "\n",
    "#plt.plot(fpr_validation, tpr_validation, label= 'Validation AUC=' + str(np.round(auc_test, 2)) + ')')\n",
    "plt.plot(fpr_test, tpr_test, label= 'Test AUC=' + str(np.round(auc_test, 2)) + ')')\n",
    "\n",
    "plt.xlabel('False positive rate')\n",
    "plt.ylabel('True positive rate')\n",
    "plt.title('ROC curve')\n",
    "plt.legend(loc='best')\n",
    "plt.savefig('./ROC_curve.png')\n",
    "plt.show()"
   ]
  },
  {
   "cell_type": "markdown",
   "id": "344d6cc8",
   "metadata": {
    "id": "f444492979004d7f8534841500812507"
   },
   "source": [
    "Export the model pipeline to the artifacts folder"
   ]
  },
  {
   "cell_type": "code",
   "execution_count": null,
   "id": "746ae8e4-9066-4be4-95f1-4b6e9581cd56",
   "metadata": {
    "id": "f1d99456-ec87-431c-aaa1-109907d436cb",
    "tags": []
   },
   "outputs": [],
   "source": [
    "joblib.dump(my_pipeline, 'model_artifacts/model.joblib')"
   ]
  },
  {
   "cell_type": "markdown",
   "id": "994f15a7",
   "metadata": {
    "id": "6498c8a2e46847db82c530ee1ec54b3f"
   },
   "source": [
    "Copy the model artifact the the cloud storage bucket"
   ]
  },
  {
   "cell_type": "code",
   "execution_count": null,
   "id": "691c5ce1-ad24-430c-9a40-1caced2b4a1e",
   "metadata": {
    "id": "0102f587-f072-4459-8882-b8f9ab72c0ac",
    "tags": []
   },
   "outputs": [],
   "source": [
    "!gsutil cp model_artifacts/model.joblib {BUCKET_NAME}/{MODEL_ARTIFACT_DIR}/"
   ]
  },
  {
   "cell_type": "markdown",
   "id": "c17ab9b7",
   "metadata": {
    "id": "d6638d4b2ae74b1e81838a8442a0d58c"
   },
   "source": [
    "Define the pre-processing map for model inference"
   ]
  },
  {
   "cell_type": "code",
   "execution_count": null,
   "id": "48b51116-d2b3-4302-b739-fc4e22e4ff5e",
   "metadata": {
    "id": "f72d8e09-a37d-41e8-958c-77729f06afbe"
   },
   "outputs": [],
   "source": [
    "clarity_dict={\"Flawless\": \"FL\",\n",
    "              \"Internally Flawless\": \"IF\",\n",
    "              \"Very Very Slightly Included\": \"VVS1\",\n",
    "              \"Very Slightly Included\": \"VS2\",\n",
    "              \"Slightly Included\": \"S12\",\n",
    "              \"Included\": \"I3\"}"
   ]
  },
  {
   "cell_type": "code",
   "execution_count": null,
   "id": "ff776ea5-108b-42d7-8c96-7b90b47b8b21",
   "metadata": {
    "id": "b4ea4178-9cc9-41fd-8937-4046fa962f65"
   },
   "outputs": [],
   "source": [
    "import json\n",
    "with open(\"model_artifacts/preprocessor.json\", \"w\") as f:\n",
    "    json.dump(clarity_dict, f)"
   ]
  },
  {
   "cell_type": "code",
   "execution_count": null,
   "id": "d3463584-d2e4-4466-bc10-dc0b4d99eaab",
   "metadata": {
    "id": "cf5dd9ce-dea9-4009-af50-ae5bb61e554b"
   },
   "outputs": [],
   "source": [
    "!gsutil cp model_artifacts/preprocessor.json {BUCKET_NAME}/{MODEL_ARTIFACT_DIR}/"
   ]
  },
  {
   "cell_type": "markdown",
   "id": "998997a5",
   "metadata": {
    "id": "7d533693ed0645da8e19f1d567e05516"
   },
   "source": [
    "Define the Custom Prediction Routine to load the model, pre-process the data and post-process the scoring response to what the wrapping WML scoring endpoint and thereby OpenScale expects"
   ]
  },
  {
   "cell_type": "code",
   "execution_count": null,
   "id": "323bb0d5-f82b-4a45-8e9d-cbbb198b0714",
   "metadata": {
    "id": "7302f9ee-d11f-4ae0-a283-114dcc208efe",
    "tags": []
   },
   "outputs": [],
   "source": [
    "%%writefile $USER_SRC_DIR/predictor.py\n",
    "\n",
    "import joblib\n",
    "import numpy as np\n",
    "import json\n",
    "\n",
    "from google.cloud import storage\n",
    "from google.cloud.aiplatform.prediction.sklearn.predictor import SklearnPredictor\n",
    "\n",
    "\n",
    "class CprPredictor(SklearnPredictor):\n",
    "\n",
    "    def __init__(self):\n",
    "        return\n",
    "\n",
    "    def load(self, artifacts_uri: str) -> None:\n",
    "        \"\"\"Loads the sklearn pipeline and preprocessing artifact.\"\"\"\n",
    "\n",
    "        super().load(artifacts_uri)\n",
    "\n",
    "        # # open preprocessing artifact\n",
    "        # with open(\"preprocessor.json\", \"rb\") as f:\n",
    "        #     self._preprocessor = json.load(f)\n",
    "\n",
    "\n",
    "    def preprocess(self, prediction_input: np.ndarray) -> np.ndarray:\n",
    "        \"\"\"Performs preprocessing by checking if clarity feature is in abbreviated form.\"\"\"\n",
    "\n",
    "        inputs = super().preprocess(prediction_input)\n",
    "\n",
    "#         for sample in inputs:\n",
    "#             if sample[3] not in self._preprocessor.values():\n",
    "#                 sample[3] = self._preprocessor[sample[3]]\n",
    "        return inputs\n",
    "\n",
    "    def predict(self, instances):\n",
    "        outputs = self._model.predict_proba(instances) \n",
    "        return outputs\n",
    "\n",
    "    def postprocess(self, prediction_results: np.ndarray) -> dict:\n",
    "        \"\"\"Performs postprocessing by rounding predictions and converting to WML scoring format.\"\"\"\n",
    "        # return {\"predictions\": [f\"${value}\" for value in np.round(prediction_results)]}                                \n",
    "        return {\"predictions\": [{\"fields\":[\"prediction\", \"probability\"], \"values\":[[int(np.round(value[0])), value.tolist()] for value in prediction_results]}]}"
   ]
  },
  {
   "cell_type": "markdown",
   "id": "f4f818fa",
   "metadata": {
    "id": "98a605f13ac447c4a7239ab96ce4bba9"
   },
   "source": [
    "Build the Custom Routine Predictor docker image"
   ]
  },
  {
   "cell_type": "code",
   "execution_count": null,
   "id": "6c32776c-7ff7-499e-9c27-ae235cc8abc6",
   "metadata": {
    "id": "ac748dff-1e4b-4ad4-ac4f-ff6884d2eacd",
    "tags": []
   },
   "outputs": [],
   "source": [
    "from google.cloud import aiplatform\n",
    "\n",
    "aiplatform.init(project=PROJECT_ID, location=REGION)\n",
    "\n",
    "import os\n",
    "\n",
    "from google.cloud.aiplatform.prediction import LocalModel\n",
    "\n",
    "from src_dir.predictor import CprPredictor  # Should be path of variable $USER_SRC_DIR\n",
    "\n",
    "local_model = LocalModel.build_cpr_model(\n",
    "    USER_SRC_DIR,\n",
    "    f\"{REGION}-docker.pkg.dev/{PROJECT_ID}/{REPOSITORY}/{IMAGE}\",\n",
    "    predictor=CprPredictor,\n",
    "    requirements_path=os.path.join(USER_SRC_DIR, \"requirements.txt\"),\n",
    ")"
   ]
  },
  {
   "cell_type": "code",
   "execution_count": null,
   "id": "d7c8a6bf-03b5-44f8-b676-b16a1e1e88f2",
   "metadata": {
    "tags": []
   },
   "outputs": [],
   "source": [
    "X_test.iloc[0:10].to_dict(\"split\")[\"data\"]"
   ]
  },
  {
   "cell_type": "code",
   "execution_count": null,
   "id": "b1ffad86-ffb6-4f58-92b0-a9786c3f9f23",
   "metadata": {
    "id": "4d482118-d6ab-4f78-acf9-9a378b5e27a8",
    "tags": []
   },
   "outputs": [],
   "source": [
    "import json\n",
    "\n",
    "sample = {\"instances\": X_test.iloc[0:10].to_dict(\"split\")[\"data\"]}\n",
    "\n",
    "with open('instances.json', 'w') as fp:\n",
    "    json.dump(sample, fp)"
   ]
  },
  {
   "cell_type": "markdown",
   "id": "fb88e840",
   "metadata": {
    "id": "4986e118dc0d4c2a821d2e2757c8e923",
    "tags": []
   },
   "source": [
    "Make local predictions against the predictor routine"
   ]
  },
  {
   "cell_type": "code",
   "execution_count": null,
   "id": "308ace2d-bb18-4fc5-8c8d-d35b0a4d7934",
   "metadata": {
    "id": "49d85fca-d5e8-4d1d-8aa6-225462d1e112",
    "tags": []
   },
   "outputs": [],
   "source": [
    "with local_model.deploy_to_local_endpoint(\n",
    "    artifact_uri = 'model_artifacts/', # local path to artifacts\n",
    ") as local_endpoint:\n",
    "    predict_response = local_endpoint.predict(\n",
    "        request_file='instances.json',\n",
    "        headers={\"Content-Type\": \"application/json\"},\n",
    "    )\n",
    "\n",
    "    health_check_response = local_endpoint.run_health_check()"
   ]
  },
  {
   "cell_type": "markdown",
   "id": "bec3bef5",
   "metadata": {
    "id": "756d5be7059242ba825798bf9216ce03"
   },
   "source": [
    "The scoring response.."
   ]
  },
  {
   "cell_type": "code",
   "execution_count": null,
   "id": "a036a3dc-3e47-4136-83b9-418ad3f3d62c",
   "metadata": {
    "id": "a12bfee1-9447-49f8-a79c-6c15e48ab39d",
    "tags": []
   },
   "outputs": [],
   "source": [
    "predict_response.content"
   ]
  },
  {
   "cell_type": "code",
   "execution_count": null,
   "id": "fc900f11-8f9a-4a49-b789-2216b1e79bde",
   "metadata": {
    "id": "a5855f02-f1fc-4beb-b6e4-41a37d0ee20e",
    "tags": []
   },
   "outputs": [],
   "source": [
    "REPOSITORY"
   ]
  },
  {
   "cell_type": "code",
   "execution_count": null,
   "id": "f0c4f475-fafd-4e68-9b4c-a25a966306c6",
   "metadata": {
    "id": "90c998e8-d53c-4bb9-a1f0-7ba4bc40df97",
    "tags": []
   },
   "outputs": [],
   "source": [
    "!gcloud artifacts repositories create {REPOSITORY} --repository-format=docker --location=us-central1 --description=\"Docker repository\""
   ]
  },
  {
   "cell_type": "code",
   "execution_count": null,
   "id": "9d856114-cb09-418c-b33c-700b553b060d",
   "metadata": {
    "id": "b350bef2-74c1-4ab2-b57d-f8b1d4b3c9a1",
    "tags": []
   },
   "outputs": [],
   "source": [
    "!gcloud auth configure-docker {REGION}-docker.pkg.dev --quiet"
   ]
  },
  {
   "cell_type": "markdown",
   "id": "214d1dae",
   "metadata": {
    "id": "6bd7ef3346714f0d85e210dadf3f08e8"
   },
   "source": [
    "Push the custom routine predictor docker image"
   ]
  },
  {
   "cell_type": "code",
   "execution_count": null,
   "id": "792c6b77-2312-4bd4-b057-c7fbd8720422",
   "metadata": {
    "id": "01c86276-b29b-481c-a72f-a6c8abc01cc8",
    "tags": []
   },
   "outputs": [],
   "source": [
    "local_model.push_image()"
   ]
  },
  {
   "cell_type": "code",
   "execution_count": null,
   "id": "fce8a3a8-9858-4a98-9a53-3c155f1f3b58",
   "metadata": {
    "id": "ffafcb40-e695-45ea-b303-22d847896170",
    "tags": []
   },
   "outputs": [],
   "source": [
    "MODEL_DISPLAY_NAME"
   ]
  },
  {
   "cell_type": "code",
   "execution_count": null,
   "id": "295c3552-12b6-4774-913b-80141ccdc1bf",
   "metadata": {
    "id": "99537717-5804-4400-95e5-5c3b41498143",
    "tags": []
   },
   "outputs": [],
   "source": [
    "BUCKET_NAME"
   ]
  },
  {
   "cell_type": "code",
   "execution_count": null,
   "id": "13d01196-ec02-45d3-9d78-1618130e2900",
   "metadata": {
    "id": "81ae24e3-6691-4d23-968c-4eeb16102d45",
    "tags": []
   },
   "outputs": [],
   "source": [
    "MODEL_ARTIFACT_DIR"
   ]
  },
  {
   "cell_type": "code",
   "execution_count": null,
   "id": "d6331170-6ffe-4a26-b407-bd53049ac21d",
   "metadata": {
    "id": "db473b90-b7bc-4286-b061-ceef1516dfd2",
    "tags": []
   },
   "outputs": [],
   "source": [
    "model = aiplatform.Model.upload(local_model = local_model,\n",
    "                                display_name=MODEL_DISPLAY_NAME,\n",
    "                                artifact_uri=f\"{BUCKET_NAME}/{MODEL_ARTIFACT_DIR}\",)"
   ]
  },
  {
   "cell_type": "markdown",
   "id": "c978e217",
   "metadata": {
    "id": "71f38c4a614d412080ceda540c035058"
   },
   "source": [
    "Create an endpoint to the Custom Routine Predictor Image"
   ]
  },
  {
   "cell_type": "code",
   "execution_count": null,
   "id": "0e8e8cf3-fcb3-40ba-b6f4-168d94e9b2dd",
   "metadata": {
    "id": "5049688f-12f9-45e8-964f-cb0c5b3cbb16",
    "tags": []
   },
   "outputs": [],
   "source": [
    "endpoint = model.deploy(machine_type=\"n1-standard-2\")"
   ]
  },
  {
   "cell_type": "markdown",
   "id": "17e37ade",
   "metadata": {
    "id": "c01ad585fe6e42eb836d074d507d0868"
   },
   "source": [
    "Perform scoring against the endpoint"
   ]
  },
  {
   "cell_type": "code",
   "execution_count": null,
   "id": "6b809938-7c62-4ade-9a5c-dbc86dc8f3ea",
   "metadata": {
    "id": "98375bfa-2487-4918-87b1-47fa1b839d14",
    "tags": []
   },
   "outputs": [],
   "source": [
    "endpoint.predict(instances=X_test.iloc[0:100].to_dict(\"split\")[\"data\"])"
   ]
  },
  {
   "cell_type": "code",
   "execution_count": null,
   "id": "0dd7827d-626e-4e10-bfc1-572dbfb21971",
   "metadata": {
    "id": "cac1c0bf-cc90-4bd4-92c4-59bf61e75046",
    "tags": []
   },
   "outputs": [],
   "source": [
    "endpoint.predict(instances=X_test.iloc[0:1].to_dict(\"split\")[\"data\"])"
   ]
  },
  {
   "cell_type": "markdown",
   "id": "72326c03-dbd9-4836-b723-186fb172c759",
   "metadata": {},
   "source": [
    "Add deployment details for factsheet"
   ]
  },
  {
   "cell_type": "code",
   "execution_count": null,
   "id": "ffe12dd9-fd89-4c56-bc70-1ff996b44a5d",
   "metadata": {
    "id": "a15864da-6c5f-4d95-8c37-8b5ddcfd2a8b"
   },
   "outputs": [],
   "source": [
    "import re\n",
    "\n",
    "pattern = r\"resource name: (.*)\"\n",
    "match = re.search(pattern, str(endpoint))\n",
    "if match:\n",
    "    resource_name = match.group(1)\n",
    "    print(resource_name)\n",
    "else:\n",
    "    print(\"Resource name not found\")"
   ]
  },
  {
   "cell_type": "markdown",
   "id": "d39390a0-8fb2-4965-9e21-936d4f434ea7",
   "metadata": {},
   "source": [
    "## Send facts to watsonx AI Factsheet"
   ]
  },
  {
   "cell_type": "code",
   "execution_count": null,
   "id": "ce1bbab4-14b6-452e-850c-a185c306f0bd",
   "metadata": {
    "tags": []
   },
   "outputs": [],
   "source": [
    "from ibm_aigov_facts_client.supporting_classes.factsheet_utils import DeploymentDetails,TrainingDataReference,ExternalModelSchemas\n",
    "import json"
   ]
  },
  {
   "cell_type": "code",
   "execution_count": null,
   "id": "f9f25a82-42b8-4e14-ac60-6c7e1987af50",
   "metadata": {
    "tags": []
   },
   "outputs": [],
   "source": [
    "model_identifier=\"GCP-credit-default-model\"\n",
    "model_name=\"GCP-VertexAI-Credit-Default-logreg--model\"\n",
    "\n",
    "deployment_details=DeploymentDetails(identifier=\"GCP-credit-default-model\"\n",
    "                                    ,name=\"GCP-credit-model-default-deployment\"\n",
    "                                    ,deployment_type=\"online\"\n",
    "                                    ,scoring_endpoint=resource_name)"
   ]
  },
  {
   "cell_type": "code",
   "execution_count": null,
   "id": "94e65cf5-6ecc-4767-a37b-c7097e31d8c8",
   "metadata": {
    "tags": []
   },
   "outputs": [],
   "source": [
    "#add custom facts definitions\n",
    "import wget, time\n",
    "\n",
    "!rm Asset_type_definition.csv\n",
    "wget.download(\"https://raw.githubusercontent.com/IBM/ai-governance-factsheet-samples/main/Assets/data/Asset_type_definition.csv\")\n",
    "pd.read_csv('Asset_type_definition.csv')\n",
    "facts_client.assets.create_custom_facts_definitions(\"Asset_type_definition.csv\",overwrite=True)\n",
    "time.sleep(5)"
   ]
  },
  {
   "cell_type": "code",
   "execution_count": null,
   "id": "7375b350-ca98-4db1-84f3-7845873095ae",
   "metadata": {
    "tags": []
   },
   "outputs": [],
   "source": [
    "# function to convert input columns as input schema for AI factsheet\n",
    "def convert_column_to_json(column_name):\n",
    "    return {\n",
    "        \"metadata\": {\n",
    "            \"columnInfo\": {\n",
    "                \"columnLength\": 64\n",
    "            },\n",
    "            \"measure\": \"discrete\",\n",
    "            \"modeling_role\": \"feature\"\n",
    "        },\n",
    "        \"name\": column_name,\n",
    "        \"nullable\": True,\n",
    "        \"type\": \"string\" if data[column_name].dtype == \"object\" else \"integer\"\n",
    "    }\n",
    "\n",
    "# Get column names from DataFrame\n",
    "input_df = data.drop(['defaultpaymentnextmonth'],axis=1)\n",
    "columns = input_df.columns.tolist()\n",
    "\n",
    "# Convert each column to JSON format\n",
    "fields = [convert_column_to_json(column) for column in columns]\n",
    "\n",
    "# Create the final JSON structure\n",
    "input_payload = [{\"fields\": fields, \"type\": \"struct\"}]"
   ]
  },
  {
   "cell_type": "code",
   "execution_count": null,
   "id": "e64d6d2c-3157-49f9-b186-53bd52aaa4d5",
   "metadata": {
    "tags": []
   },
   "outputs": [],
   "source": [
    "# Derive training data reference schema from model training input schema\n",
    "training_data_schema={}\n",
    "\n",
    "input_schema= input_payload[0]\n",
    "training_data_schema[\"schema\"]=input_schema\n",
    "train_data_ref=TrainingDataReference(schema=training_data_schema)\n",
    "\n",
    "external_schemas=ExternalModelSchemas(input=input_payload)"
   ]
  },
  {
   "cell_type": "code",
   "execution_count": null,
   "id": "fe49fbbd-df05-4910-984a-39837ce090ca",
   "metadata": {
    "tags": []
   },
   "outputs": [],
   "source": [
    "external_model=facts_client.external_model_facts.save_external_model_asset(model_identifier=model_identifier,name=model_name\n",
    "                        ,deployment_details=deployment_details\n",
    "                        ,schemas=external_schemas\n",
    "                        ,training_data_reference=train_data_ref\n",
    "                        )"
   ]
  },
  {
   "cell_type": "markdown",
   "id": "e084ccaa-54de-4fd5-b45a-04233b054692",
   "metadata": {},
   "source": [
    "### Optional custom model facts"
   ]
  },
  {
   "cell_type": "code",
   "execution_count": null,
   "id": "7b12397c-8090-4fb8-9ab3-2b12b99ff53c",
   "metadata": {
    "tags": []
   },
   "outputs": [],
   "source": [
    "external_model.set_custom_fact(fact_id=\"TrainingData_Size\",value=5000)\n",
    "external_model.set_custom_fact(fact_id=\"TrainingData_Ratio\",value=\"70% of total\")\n",
    "external_model.set_custom_fact(fact_id=\"TestData_Size\",value=1000)\n",
    "external_model.set_custom_fact(fact_id=\"TestData_Ratio\",value=\"30% of total\")"
   ]
  },
  {
   "cell_type": "code",
   "execution_count": null,
   "id": "aebf640d-ae28-45f8-b68e-0faca54ee2ea",
   "metadata": {
    "tags": []
   },
   "outputs": [],
   "source": [
    "external_model.set_attachment_fact(file_to_upload=\"ROC_curve.png\",description=\"ROC Curve\",fact_id=\"0001\")"
   ]
  },
  {
   "cell_type": "code",
   "execution_count": null,
   "id": "6d70f616-6718-464e-9126-17990d42fb87",
   "metadata": {
    "tags": []
   },
   "outputs": [],
   "source": [
    "external_model.get_all_facts()"
   ]
  },
  {
   "cell_type": "code",
   "execution_count": null,
   "id": "d9b5205c-7d2d-4c81-bfac-066f89009b1b",
   "metadata": {},
   "outputs": [],
   "source": [
    "#model_usecase=external_model.get_tracking_model_usecase()\n",
    "#model_usecase.get_info()"
   ]
  },
  {
   "cell_type": "code",
   "execution_count": null,
   "id": "f434e5d9-fbad-4456-bede-346266d832cf",
   "metadata": {
    "tags": []
   },
   "outputs": [],
   "source": [
    "#model_usecase.get_tracked_models()"
   ]
  },
  {
   "cell_type": "code",
   "execution_count": null,
   "id": "f6174678-42cc-4d47-b768-b456cac6d842",
   "metadata": {
    "tags": []
   },
   "outputs": [],
   "source": [
    "external_model.get_environment_type()"
   ]
  },
  {
   "cell_type": "code",
   "execution_count": null,
   "id": "47406dc3-56cd-48d2-8df8-1aa31c81c8e7",
   "metadata": {
    "tags": []
   },
   "outputs": [],
   "source": [
    "# Change the model liftcycle stage if needed\n",
    "external_model.set_environment_type(from_container=\"test\",to_container=\"validate\")"
   ]
  },
  {
   "cell_type": "code",
   "execution_count": null,
   "id": "beb1d353-600d-4d2a-8dbe-20e1c12f9a5f",
   "metadata": {
    "tags": []
   },
   "outputs": [],
   "source": [
    "external_model.set_environment_type(from_container=\"validate\",to_container=\"operate\")"
   ]
  }
 ],
 "metadata": {
  "environment": {
   "kernel": "python3",
   "name": "common-cpu.m121",
   "type": "gcloud",
   "uri": "us-docker.pkg.dev/deeplearning-platform-release/gcr.io/base-cpu:m121"
  },
  "kernelspec": {
   "display_name": "Python 3 (Local)",
   "language": "python",
   "name": "python3"
  },
  "language_info": {
   "codemirror_mode": {
    "name": "ipython",
    "version": 3
   },
   "file_extension": ".py",
   "mimetype": "text/x-python",
   "name": "python",
   "nbconvert_exporter": "python",
   "pygments_lexer": "ipython3",
   "version": "3.10.14"
  }
 },
 "nbformat": 4,
 "nbformat_minor": 5
}

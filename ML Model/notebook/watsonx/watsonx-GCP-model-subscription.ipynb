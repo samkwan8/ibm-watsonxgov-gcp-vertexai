{
 "cells": [
  {
   "cell_type": "markdown",
   "metadata": {},
   "source": [
    "# Using IBM watsonx.governance monitoring the models deployed in Google Cloud Platform (GCP) - Vertex AI"
   ]
  },
  {
   "cell_type": "markdown",
   "metadata": {},
   "source": [
    "### watsonx Credentials"
   ]
  },
  {
   "cell_type": "code",
   "execution_count": null,
   "metadata": {
    "application/vnd.databricks.v1+cell": {
     "cellMetadata": {
      "byteLimit": 2048000,
      "rowLimit": 10000
     },
     "inputWidgets": {},
     "nuid": "905b82df-424e-4f06-a1c3-81dd38ca0ea2",
     "showTitle": false,
     "title": ""
    }
   },
   "outputs": [],
   "source": [
    "from ibm_watson_openscale import APIClient\n",
    "from ibm_watson_openscale.utils import *\n",
    "from ibm_watson_openscale.supporting_classes import *\n",
    "from ibm_watson_openscale.supporting_classes.enums import *\n",
    "from ibm_watson_openscale.base_classes.watson_open_scale_v2 import *\n",
    "from ibm_watson_openscale.utils.client_utils import get_my_instance_ids\n",
    "# from ibm_cloud_sdk_core.authenticators import IAMAuthenticator,BearerTokenAuthenticator\n",
    "\n",
    "\n",
    "#masked\n",
    "WOS_CREDENTIALS = {\n",
    "    \"url\": \"XXXXX\",\n",
    "    \"username\": \"XXXXX\",\n",
    "    \"apikey\": \"XXXXX\",\n",
    "}\n",
    "\n",
    "my_instances = get_my_instance_ids(WOS_CREDENTIALS['url'], WOS_CREDENTIALS['username'], apikey = WOS_CREDENTIALS['apikey']) # Pass either password or apikey but not both\n",
    "print(my_instances)\n",
    "\n",
    "authenticator = CloudPakForDataAuthenticator(\n",
    "        url=WOS_CREDENTIALS['url'],\n",
    "        username=WOS_CREDENTIALS['username'],\n",
    "        apikey=WOS_CREDENTIALS['apikey'],\n",
    "        \n",
    "        disable_ssl_verification=True\n",
    "    )\n",
    "wos_client = APIClient(service_url=WOS_CREDENTIALS['url'],authenticator=authenticator,service_instance_id = \"00000000-0000-0000-0000-000000000000\")\n",
    "wos_client.version\n"
   ]
  },
  {
   "cell_type": "code",
   "execution_count": null,
   "metadata": {},
   "outputs": [],
   "source": [
    "# Define names\n",
    "SERVICE_PROVIDER_NAME = \"GCP VertexAI - All Monitors\" #Custom engine name\n",
    "SERVICE_PROVIDER_DESCRIPTION = \"Added by VertexAI notebook to showcase monitoring Fairness, Quality, Drift and Explainability against a Custom ML provider.\"\n",
    "SUBSCRIPTION_NAME = \"Credit Default Logistic Reg Model\" #Exteranl model name\n",
    "CUSTOM_ML_PROVIDER_SCORING_URL = 'http://104.197.160.52:8080/predictions' #Custom engine endpoint\n",
    "scoring_url = CUSTOM_ML_PROVIDER_SCORING_URL"
   ]
  },
  {
   "cell_type": "code",
   "execution_count": null,
   "metadata": {
    "application/vnd.databricks.v1+cell": {
     "cellMetadata": {
      "byteLimit": 2048000,
      "rowLimit": 10000
     },
     "inputWidgets": {},
     "nuid": "93109f96-2e4b-4869-9409-a0c7d3c003b3",
     "showTitle": false,
     "title": ""
    }
   },
   "outputs": [],
   "source": [
    "feature_columns=['LIMIT_BAL', 'SEX', 'EDUCATION', 'MARRIAGE', 'AGE', 'PAY_0', 'PAY_2',\n",
    "       'PAY_3', 'PAY_4', 'PAY_5', 'PAY_6', 'BILL_AMT1', 'BILL_AMT2',\n",
    "       'BILL_AMT3', 'BILL_AMT4', 'BILL_AMT5', 'BILL_AMT6', 'PAY_AMT1',\n",
    "       'PAY_AMT2', 'PAY_AMT3', 'PAY_AMT4', 'PAY_AMT5', 'PAY_AMT6']\n",
    "cat_features=['SEX', 'EDUCATION', 'MARRIAGE', 'PAY_0', 'PAY_2',\n",
    "       'PAY_3', 'PAY_4', 'PAY_5', 'PAY_6']\n",
    "\n",
    "class_label = \"defaultpaymentnextmonth\"\n",
    "prediction_column = \"prediction\"\n",
    "probability_columns = ['probability'] # must be an array of all probability columns.\n",
    "\n",
    "input_parameters = {\n",
    "    \"label_column\": class_label,\n",
    "    \"feature_columns\": feature_columns,\n",
    "    \"categorical_columns\": cat_features,\n",
    "    \"fairness_inputs\": None,  \n",
    "    \"problem_type\" : \"binary\"\n",
    "}"
   ]
  },
  {
   "cell_type": "code",
   "execution_count": null,
   "metadata": {
    "application/vnd.databricks.v1+cell": {
     "cellMetadata": {
      "byteLimit": 2048000,
      "implicitDf": true,
      "rowLimit": 10000
     },
     "inputWidgets": {},
     "nuid": "bbf39c56-1ccd-4ef9-b2d0-267f01b12978",
     "showTitle": false,
     "title": ""
    }
   },
   "outputs": [],
   "source": [
    "import pandas as pd\n",
    "pd_data = pd.read_csv(\"UCI_Credit_Card.csv\")\n",
    "pd_data = pd_data.drop(\"ID\", axis=1)\n",
    "pd_data.head(10)"
   ]
  },
  {
   "cell_type": "code",
   "execution_count": null,
   "metadata": {
    "application/vnd.databricks.v1+cell": {
     "cellMetadata": {
      "byteLimit": 2048000,
      "rowLimit": 10000
     },
     "inputWidgets": {},
     "nuid": "c8c8ad2d-7cba-4113-9e27-63bac00f6dfa",
     "showTitle": false,
     "title": ""
    }
   },
   "outputs": [],
   "source": [
    "data_df = pd_data"
   ]
  },
  {
   "cell_type": "code",
   "execution_count": null,
   "metadata": {
    "application/vnd.databricks.v1+cell": {
     "cellMetadata": {
      "byteLimit": 2048000,
      "rowLimit": 10000
     },
     "inputWidgets": {},
     "nuid": "c96d37d4-5214-40ed-bb5e-f7d49d4ec737",
     "showTitle": false,
     "title": ""
    }
   },
   "outputs": [],
   "source": [
    "from ibm_watson_openscale.utils.training_stats import TrainingStats\n",
    "\n",
    "training_stats = TrainingStats(data_df,input_parameters, explain=True, fairness=False, drop_na=True)\n",
    "config_json = training_stats.get_training_statistics()\n",
    "config_json[\"notebook_version\"] = 5.0\n",
    "\n",
    "config_json"
   ]
  },
  {
   "cell_type": "code",
   "execution_count": null,
   "metadata": {
    "application/vnd.databricks.v1+cell": {
     "cellMetadata": {
      "byteLimit": 2048000,
      "rowLimit": 10000
     },
     "inputWidgets": {},
     "nuid": "17aca061-0f57-4923-8c24-efce6f40ca28",
     "showTitle": false,
     "title": ""
    }
   },
   "outputs": [],
   "source": [
    "# Input Schema\n",
    "import copy\n",
    "\n",
    "# remove label column from input data schema if present\n",
    "input_data_schema = config_json[\"common_configuration\"][\"input_data_schema\"]\n",
    "input_data_schema = copy.deepcopy(input_data_schema)\n",
    "\n",
    "is_label_column_in_input_schema = False\n",
    "for field in input_data_schema[\"fields\"]:\n",
    "    if field[\"name\"] == class_label:\n",
    "        is_label_column_in_input_schema = True\n",
    "        break\n",
    "\n",
    "if is_label_column_in_input_schema:\n",
    "    input_data_schema[\"fields\"] = [x for x in input_data_schema['fields'] if x['name'] != class_label]\n",
    "    \n",
    "print(input_data_schema)"
   ]
  },
  {
   "cell_type": "code",
   "execution_count": null,
   "metadata": {
    "application/vnd.databricks.v1+cell": {
     "cellMetadata": {
      "byteLimit": 2048000,
      "rowLimit": 10000
     },
     "inputWidgets": {},
     "nuid": "2c780916-a00a-4799-9a8a-35ad7cace1c2",
     "showTitle": false,
     "title": ""
    }
   },
   "outputs": [],
   "source": [
    "# Training Schema\n",
    "\n",
    "# training_data_schema = input_data_schema + class_label\n",
    "training_data_schema = copy.deepcopy(input_data_schema)\n",
    "\n",
    "schema = dict(data_df.dtypes)\n",
    "class_label_dtype = str(schema[class_label])\n",
    "\n",
    "if \"object\" in class_label_dtype:\n",
    "    class_label_dtype = \"string\"\n",
    "elif \"int\" in class_label_dtype:\n",
    "    class_label_dtype = \"long\"\n",
    "elif \"float\" in class_label_dtype:\n",
    "    class_label_dtype = \"double\"\n",
    "\n",
    "training_data_schema[\"fields\"].append({\n",
    "    \"name\": class_label,\n",
    "    \"type\": class_label_dtype,\n",
    "    \"nullable\": True,\n",
    "    \"metadata\": {}\n",
    "})\n",
    "\n",
    "print(training_data_schema)"
   ]
  },
  {
   "cell_type": "code",
   "execution_count": null,
   "metadata": {
    "application/vnd.databricks.v1+cell": {
     "cellMetadata": {
      "byteLimit": 2048000,
      "rowLimit": 10000
     },
     "inputWidgets": {},
     "nuid": "3a9e1184-25a3-4bfe-97cb-1efb633e9c08",
     "showTitle": false,
     "title": ""
    }
   },
   "outputs": [],
   "source": [
    "# Output Schema\n",
    "\n",
    "# output_data_schema = input_data_schema + prediction + probability\n",
    "output_data_schema = copy.deepcopy(input_data_schema)\n",
    "#output_data_schema = None\n",
    "# add prediction column\n",
    "# assumed datatype is same as class_label datatype\n",
    "output_data_schema[\"fields\"].append({\n",
    "    \"name\": prediction_column,\n",
    "    \"type\": class_label_dtype,\n",
    "    \"nullable\": True,\n",
    "    \"metadata\": {}\n",
    "})\n",
    "\n",
    "# add probability columns if present\n",
    "# assumed datatype is \"double\"\n",
    "if probability_columns is not None and len(probability_columns) == 1:\n",
    "    output_data_schema[\"fields\"].append({\n",
    "        \"name\": probability_columns[0],\n",
    "        \"type\": {\n",
    "            \"type\": \"array\",\n",
    "            \"elementType\": \"double\",\n",
    "            \"containsNull\": True\n",
    "        },\n",
    "        \"nullable\": True,\n",
    "        \"metadata\": {}\n",
    "    })\n",
    "elif probability_columns is not None and len(probability_columns) > 1:\n",
    "    for column in probability_columns:\n",
    "        output_data_schema[\"fields\"].append({\n",
    "            \"name\": column,\n",
    "            \"type\": \"double\",\n",
    "            \"nullable\": True,\n",
    "            \"metadata\": {}\n",
    "        })\n",
    "\n",
    "print(output_data_schema)"
   ]
  },
  {
   "cell_type": "code",
   "execution_count": null,
   "metadata": {
    "application/vnd.databricks.v1+cell": {
     "cellMetadata": {
      "byteLimit": 2048000,
      "rowLimit": 10000
     },
     "inputWidgets": {},
     "nuid": "d6012fba-d86a-47fa-9d8f-ba7a440a7bcf",
     "showTitle": false,
     "title": ""
    }
   },
   "outputs": [],
   "source": [
    "data_marts = wos_client.data_marts.list().result.data_marts\n",
    "data_mart_id=data_marts[0].metadata.id\n",
    "print('Using existing datamart {}'.format(data_mart_id))"
   ]
  },
  {
   "cell_type": "code",
   "execution_count": null,
   "metadata": {
    "application/vnd.databricks.v1+cell": {
     "cellMetadata": {
      "byteLimit": 2048000,
      "rowLimit": 10000
     },
     "inputWidgets": {},
     "nuid": "b28f7c7a-8049-4660-8164-562e3ad518d4",
     "showTitle": false,
     "title": ""
    }
   },
   "outputs": [],
   "source": [
    "service_providers = wos_client.service_providers.list().result.service_providers\n",
    "for service_provider in service_providers:\n",
    "    service_instance_name = service_provider.entity.name\n",
    "    if service_instance_name == SERVICE_PROVIDER_NAME:\n",
    "        service_provider_id = service_provider.metadata.id\n",
    "        wos_client.service_providers.delete(service_provider_id)\n",
    "        print(\"Deleted existing service_provider for WML instance: {}\".format(service_provider_id))"
   ]
  },
  {
   "cell_type": "code",
   "execution_count": null,
   "metadata": {
    "application/vnd.databricks.v1+cell": {
     "cellMetadata": {
      "byteLimit": 2048000,
      "rowLimit": 10000
     },
     "inputWidgets": {},
     "nuid": "6511e6f4-0ff7-4c33-919c-bd494287ecff",
     "showTitle": false,
     "title": ""
    }
   },
   "outputs": [],
   "source": [
    "request_headers = {\"Content-Type\": \"application/json\", \"Openscale\": \"True\"}\n",
    "MLCredentials = {}\n",
    "\n",
    "\n",
    "CUSTOM_ENGINE_CREDENTIALS = {\n",
    "    \"url\": scoring_url,\n",
    "    \"username\": \"admin\",\n",
    "    \"password\": \"password\",\n",
    "}\n",
    "\n",
    "added_service_provider_result = wos_client.service_providers.add(\n",
    "        name=SERVICE_PROVIDER_NAME,\n",
    "        description=SERVICE_PROVIDER_DESCRIPTION,\n",
    "        service_type=ServiceTypes.CUSTOM_MACHINE_LEARNING,\n",
    "        request_headers=request_headers,\n",
    "        operational_space_id = \"production\",\n",
    "        credentials=CustomCredentials(\n",
    "            url= CUSTOM_ENGINE_CREDENTIALS['url'],\n",
    "            username= CUSTOM_ENGINE_CREDENTIALS['username'],\n",
    "            password= CUSTOM_ENGINE_CREDENTIALS['password'],\n",
    "        ),\n",
    "        background_mode=False\n",
    "    ).result\n",
    "service_provider_id = added_service_provider_result.metadata.id"
   ]
  },
  {
   "cell_type": "code",
   "execution_count": null,
   "metadata": {
    "application/vnd.databricks.v1+cell": {
     "cellMetadata": {
      "byteLimit": 2048000,
      "rowLimit": 10000
     },
     "inputWidgets": {},
     "nuid": "c466b92f-448e-44b9-8a46-160f519df020",
     "showTitle": false,
     "title": ""
    }
   },
   "outputs": [],
   "source": [
    "print(wos_client.service_providers.get(service_provider_id).result)"
   ]
  },
  {
   "cell_type": "code",
   "execution_count": null,
   "metadata": {
    "application/vnd.databricks.v1+cell": {
     "cellMetadata": {
      "byteLimit": 2048000,
      "rowLimit": 10000
     },
     "inputWidgets": {},
     "nuid": "d5d42a26-7c2e-4d7d-9028-5e26fae9b3d8",
     "showTitle": false,
     "title": ""
    }
   },
   "outputs": [],
   "source": [
    "subscriptions = wos_client.subscriptions.list().result.subscriptions\n",
    "for subscription in subscriptions:\n",
    "    if subscription.entity.asset.name == \"[GCP VertexAI] \" + SUBSCRIPTION_NAME:\n",
    "        sub_model_id = subscription.metadata.id\n",
    "        wos_client.subscriptions.delete(subscription.metadata.id)\n",
    "        print('Deleted existing subscription for model', sub_model_id)"
   ]
  },
  {
   "cell_type": "code",
   "execution_count": null,
   "metadata": {
    "application/vnd.databricks.v1+cell": {
     "cellMetadata": {
      "byteLimit": 2048000,
      "rowLimit": 10000
     },
     "inputWidgets": {},
     "nuid": "8d691243-9019-4d51-961b-485d69687b50",
     "showTitle": false,
     "title": ""
    }
   },
   "outputs": [],
   "source": [
    "import uuid\n",
    "asset_id = str(uuid.uuid4())\n",
    "asset_name = '[GCP VertexAI] ' + SUBSCRIPTION_NAME\n",
    "url = ''\n",
    "\n",
    "asset_deployment_id = str(uuid.uuid4())\n",
    "asset_deployment_name = asset_name\n",
    "asset_deployment_scoring_url = scoring_url\n",
    "\n",
    "scoring_endpoint_url = scoring_url\n",
    "scoring_request_headers = {\n",
    "        \"Content-Type\": \"application/json\",\n",
    "        \"Openscale\": \"True\"\n",
    "}"
   ]
  },
  {
   "cell_type": "code",
   "execution_count": null,
   "metadata": {
    "application/vnd.databricks.v1+cell": {
     "cellMetadata": {
      "byteLimit": 2048000,
      "rowLimit": 10000
     },
     "inputWidgets": {},
     "nuid": "d44181ed-6c1c-4b0c-a037-bbc9763202f5",
     "showTitle": false,
     "title": ""
    }
   },
   "outputs": [],
   "source": [
    "# A two-step process to create subscription\n",
    "# 1. Create minimal subscription without schemas\n",
    "# 2. Patch subscription with Schemas\n",
    "\n",
    "subscription_details = wos_client.subscriptions.add(\n",
    "        data_mart_id=data_mart_id,\n",
    "        service_provider_id=service_provider_id,\n",
    "        asset=Asset(\n",
    "            asset_id=asset_id,\n",
    "            name=asset_name,\n",
    "            url=url,\n",
    "            asset_type=AssetTypes.MODEL,\n",
    "            input_data_type=InputDataType.STRUCTURED,\n",
    "            problem_type=ProblemType.BINARY_CLASSIFICATION\n",
    "        ),\n",
    "        deployment=AssetDeploymentRequest(\n",
    "            deployment_id=asset_deployment_id,\n",
    "            name=asset_deployment_name,\n",
    "            deployment_type= DeploymentTypes.ONLINE,\n",
    "            scoring_endpoint=ScoringEndpointRequest(\n",
    "                url=scoring_endpoint_url,\n",
    "                request_headers=scoring_request_headers\n",
    "            )\n",
    "        ),\n",
    "        asset_properties=AssetPropertiesRequest(\n",
    "            label_column=class_label,\n",
    "            probability_fields=[\"probability\"],\n",
    "            prediction_field=\"predictedLabel\",\n",
    "            feature_fields = feature_columns,\n",
    "            categorical_fields = cat_features                                                     \n",
    "        )\n",
    "    ).result\n",
    "subscription_id = subscription_details.metadata.id"
   ]
  },
  {
   "cell_type": "code",
   "execution_count": null,
   "metadata": {
    "application/vnd.databricks.v1+cell": {
     "cellMetadata": {
      "byteLimit": 2048000,
      "rowLimit": 10000
     },
     "inputWidgets": {},
     "nuid": "56d9e4ba-b39b-44d1-9e91-99c6c4c6aa72",
     "showTitle": false,
     "title": ""
    }
   },
   "outputs": [],
   "source": [
    "subscription_id = subscription_details.metadata.id\n",
    "print(\"Subscription id {}\".format(subscription_id))"
   ]
  },
  {
   "cell_type": "code",
   "execution_count": null,
   "metadata": {
    "application/vnd.databricks.v1+cell": {
     "cellMetadata": {
      "byteLimit": 2048000,
      "rowLimit": 10000
     },
     "inputWidgets": {},
     "nuid": "6dd90d3c-e6c4-4b73-b711-19f80282e4f7",
     "showTitle": false,
     "title": ""
    }
   },
   "outputs": [],
   "source": [
    "wos_client.subscriptions.get(subscription_id).result.to_dict()"
   ]
  },
  {
   "cell_type": "code",
   "execution_count": null,
   "metadata": {
    "application/vnd.databricks.v1+cell": {
     "cellMetadata": {
      "byteLimit": 2048000,
      "rowLimit": 10000
     },
     "inputWidgets": {},
     "nuid": "f96fd598-2d99-49e3-b84f-eaee5206c91a",
     "showTitle": false,
     "title": ""
    }
   },
   "outputs": [],
   "source": [
    "# Patch subscription with Schemas\n",
    "asset_properties = {\n",
    "    \"label_column\": class_label,\n",
    "    \"prediction_field\": prediction_column,\n",
    "    \"feature_fields\": feature_columns,\n",
    "    \"categorical_fields\": cat_features\n",
    "}\n",
    "\n",
    "if probability_columns and len(probability_columns) > 0:\n",
    "    asset_properties[\"probability_fields\"] = probability_columns\n",
    "    \n",
    "if input_data_schema:\n",
    "    asset_properties[\"input_data_schema\"] = input_data_schema\n",
    "    \n",
    "if training_data_schema:\n",
    "    asset_properties[\"training_data_schema\"] = training_data_schema\n",
    "    \n",
    "if output_data_schema:\n",
    "    asset_properties[\"output_data_schema\"] = output_data_schema\n",
    "    \n",
    "# print(asset_properties)\n",
    "\n",
    "patch_document = [\n",
    "    JsonPatchOperation(op=OperationTypes.REPLACE, path='/asset_properties', value=asset_properties)\n",
    "]\n",
    "\n",
    "response = wos_client.subscriptions.update(subscription_id=subscription_id, patch_document=patch_document).result\n",
    "# print(response)"
   ]
  },
  {
   "cell_type": "code",
   "execution_count": null,
   "metadata": {
    "application/vnd.databricks.v1+cell": {
     "cellMetadata": {
      "byteLimit": 2048000,
      "rowLimit": 10000
     },
     "inputWidgets": {},
     "nuid": "8c6913a8-c553-4a62-bbf9-3644844ae96f",
     "showTitle": false,
     "title": ""
    }
   },
   "outputs": [],
   "source": [
    "wos_client.subscriptions.get(subscription_id).result.to_dict()"
   ]
  },
  {
   "cell_type": "code",
   "execution_count": null,
   "metadata": {
    "application/vnd.databricks.v1+cell": {
     "cellMetadata": {
      "byteLimit": 2048000,
      "rowLimit": 10000
     },
     "inputWidgets": {},
     "nuid": "bbd7d024-2a5b-4fd9-bc26-2bb97c7e831e",
     "showTitle": false,
     "title": ""
    }
   },
   "outputs": [],
   "source": [
    "# get payload data set id\n",
    "import time\n",
    "\n",
    "time.sleep(20)\n",
    "payload_data_set_id = None\n",
    "payload_data_set_id = wos_client.data_sets.list(\n",
    "    type=DataSetTypes.PAYLOAD_LOGGING,\n",
    "    target_target_id=subscription_id,\n",
    "    target_target_type=TargetTypes.SUBSCRIPTION).result.data_sets[0].metadata.id\n",
    "\n",
    "if payload_data_set_id is None:\n",
    "    print(\"Payload data set not found. Please check subscription status.\")\n",
    "else:\n",
    "    print(\"Payload data set id: \", payload_data_set_id)"
   ]
  },
  {
   "cell_type": "code",
   "execution_count": null,
   "metadata": {
    "application/vnd.databricks.v1+cell": {
     "cellMetadata": {
      "byteLimit": 2048000,
      "rowLimit": 10000
     },
     "inputWidgets": {},
     "nuid": "9caa5a5b-fdd6-48f3-a46f-645a5841adfa",
     "showTitle": false,
     "title": ""
    }
   },
   "outputs": [],
   "source": [
    "# get payload record count\n",
    "wos_client.data_sets.get_records_count(data_set_id=payload_data_set_id)"
   ]
  },
  {
   "cell_type": "code",
   "execution_count": null,
   "metadata": {},
   "outputs": [],
   "source": [
    "cols_to_remove = ['defaultpaymentnextmonth']\n",
    "def get_scoring_payload(no_of_records_to_score = 1):\n",
    "    for col in cols_to_remove:\n",
    "        if col in pd_data.columns:\n",
    "            del pd_data[col] \n",
    "\n",
    "    fields = pd_data.columns.tolist()\n",
    "    values = pd_data[fields].values.tolist()\n",
    "\n",
    "    payload_scoring = {\"input_data\": [{\"fields\": fields, \"values\": values[:no_of_records_to_score]}]}\n",
    "    return payload_scoring"
   ]
  },
  {
   "cell_type": "code",
   "execution_count": null,
   "metadata": {
    "application/vnd.databricks.v1+cell": {
     "cellMetadata": {
      "byteLimit": 2048000,
      "rowLimit": 10000
     },
     "inputWidgets": {},
     "nuid": "743a59cd-9188-4dda-9640-28318f88fc98",
     "showTitle": false,
     "title": ""
    }
   },
   "outputs": [],
   "source": [
    "from ibm_watson_openscale.supporting_classes.payload_record import PayloadRecord\n",
    "\n",
    "# Put your data here\n",
    "REQUEST_DATA = {\"fields\": [\"LIMIT_BAL\", \"SEX\", \"EDUCATION\", \"MARRIAGE\", \"AGE\", \"PAY_0\", \"PAY_2\", \"PAY_3\", \"PAY_4\", \"PAY_5\", \"PAY_6\", \"BILL_AMT1\", \"BILL_AMT2\", \"BILL_AMT3\", \"BILL_AMT4\", \"BILL_AMT5\", \"BILL_AMT6\", \"PAY_AMT1\", \"PAY_AMT2\", \"PAY_AMT3\", \"PAY_AMT4\", \"PAY_AMT5\", \"PAY_AMT6\"], \"values\": [[20000.0, 2.0, 2.0, 1.0, 24.0, 2.0, 2.0, -1.0, -1.0, -2.0, -2.0, 3913.0, 3102.0, 689.0, 0.0, 0.0, 0.0, 0.0, 689.0, 0.0, 0.0, 0.0, 0.0], [120000.0, 2.0, 2.0, 2.0, 26.0, -1.0, 2.0, 0.0, 0.0, 0.0, 2.0, 2682.0, 1725.0, 2682.0, 3272.0, 3455.0, 3261.0, 0.0, 1000.0, 1000.0, 1000.0, 0.0, 2000.0]]}\n",
    "RESPONSE_DATA = {\"fields\":[\"prediction\",\"probability\"],\"values\":[[0,[0.4703915003587882,0.5296084996412118]],[1,[0.8430531917616706,0.1569468082383294]]]}\n",
    "\n",
    "wos_client.data_sets.store_records(data_set_id=payload_data_set_id, request_body=[PayloadRecord(request=REQUEST_DATA, response=RESPONSE_DATA, response_time=460)])"
   ]
  },
  {
   "cell_type": "code",
   "execution_count": null,
   "metadata": {
    "application/vnd.databricks.v1+cell": {
     "cellMetadata": {
      "byteLimit": 2048000,
      "rowLimit": 10000
     },
     "inputWidgets": {},
     "nuid": "df7d805e-4f0f-4e2a-ba72-e681fc51995e",
     "showTitle": false,
     "title": ""
    }
   },
   "outputs": [],
   "source": [
    "# get payload record count\n",
    "wos_client.data_sets.get_records_count(data_set_id=payload_data_set_id)"
   ]
  },
  {
   "cell_type": "markdown",
   "metadata": {},
   "source": [
    "Done OpenScale subscribtion. \n",
    "\n",
    "Go to OpenScale UI and continoue configuration for Fairness, Drift, Explainibity and Quilty Monitioring"
   ]
  },
  {
   "cell_type": "markdown",
   "metadata": {},
   "source": []
  }
 ],
 "metadata": {
  "application/vnd.databricks.v1+notebook": {
   "dashboards": [],
   "language": "python",
   "notebookMetadata": {
    "mostRecentlyExecutedCommandWithImplicitDF": {
     "commandId": 3392424280643334,
     "dataframes": [
      "_sqldf"
     ]
    },
    "pythonIndentUnit": 4
   },
   "notebookName": "Openscale Setup - Databricks - Training Stats",
   "notebookOrigID": 2115582427330372,
   "widgets": {}
  },
  "kernelspec": {
   "display_name": "Python 3 (ipykernel)",
   "language": "python",
   "name": "python3"
  },
  "language_info": {
   "codemirror_mode": {
    "name": "ipython",
    "version": 3
   },
   "file_extension": ".py",
   "mimetype": "text/x-python",
   "name": "python",
   "nbconvert_exporter": "python",
   "pygments_lexer": "ipython3",
   "version": "3.9.6"
  }
 },
 "nbformat": 4,
 "nbformat_minor": 4
}
